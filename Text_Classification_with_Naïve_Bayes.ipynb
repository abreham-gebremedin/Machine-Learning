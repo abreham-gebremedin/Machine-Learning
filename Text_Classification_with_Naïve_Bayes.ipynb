{
  "nbformat": 4,
  "nbformat_minor": 0,
  "metadata": {
    "colab": {
      "name": "Text Classification with Naïve Bayes.ipynb",
      "provenance": [],
      "collapsed_sections": [],
      "authorship_tag": "ABX9TyOUEQ2mpMFdIJWD77+RWdxc",
      "include_colab_link": true
    },
    "kernelspec": {
      "name": "python3",
      "display_name": "Python 3"
    },
    "language_info": {
      "name": "python"
    }
  },
  "cells": [
    {
      "cell_type": "markdown",
      "metadata": {
        "id": "view-in-github",
        "colab_type": "text"
      },
      "source": [
        "<a href=\"https://colab.research.google.com/github/abreham-gebremedin/Machine-Learning/blob/main/Text_Classification_with_Na%C3%AFve_Bayes.ipynb\" target=\"_parent\"><img src=\"https://colab.research.google.com/assets/colab-badge.svg\" alt=\"Open In Colab\"/></a>"
      ]
    },
    {
      "cell_type": "markdown",
      "source": [
        "#Abreham Gebremedin\n",
        " (https://abreham-gebremedin.herokuapp.com/)"
      ],
      "metadata": {
        "id": "IoIBqwKqRSYV"
      }
    },
    {
      "cell_type": "markdown",
      "source": [
        "# **Text Classification with Naïve Bayes**\n",
        "\n",
        " \n"
      ],
      "metadata": {
        "id": "hEgvbM8eRgtM"
      }
    },
    {
      "cell_type": "code",
      "execution_count": 1,
      "metadata": {
        "colab": {
          "base_uri": "https://localhost:8080/"
        },
        "id": "n53b4eI4RRyY",
        "outputId": "c73e86ba-dbe2-4589-a4c3-b7fda87fa7fa"
      },
      "outputs": [
        {
          "output_type": "stream",
          "name": "stdout",
          "text": [
            "Populating the interactive namespace from numpy and matplotlib\n"
          ]
        }
      ],
      "source": [
        "%pylab inline\n",
        "import IPython\n",
        "import sklearn as sk\n",
        "import numpy as np\n",
        "import matplotlib\n",
        "import matplotlib.pyplot as plt\n",
        "from sklearn.datasets import fetch_20newsgroups\n",
        "from sklearn.model_selection import cross_val_score, KFold\n",
        "from scipy.stats import sem\n",
        "from sklearn.naive_bayes import MultinomialNB\n",
        "from sklearn.pipeline import Pipeline\n",
        "from sklearn import metrics\n",
        "from sklearn.feature_extraction.text import TfidfVectorizer, HashingVectorizer, CountVectorizer"
      ]
    },
    {
      "cell_type": "code",
      "source": [
        "news = fetch_20newsgroups(subset='all')"
      ],
      "metadata": {
        "id": "EcSARH6hRUgs"
      },
      "execution_count": 2,
      "outputs": []
    },
    {
      "cell_type": "code",
      "source": [
        "news.keys()"
      ],
      "metadata": {
        "colab": {
          "base_uri": "https://localhost:8080/"
        },
        "id": "EPqoFuh-RUj5",
        "outputId": "ee14c886-7611-4458-8a6b-3bc60921fce2"
      },
      "execution_count": 3,
      "outputs": [
        {
          "output_type": "execute_result",
          "data": {
            "text/plain": [
              "dict_keys(['data', 'filenames', 'target_names', 'target', 'DESCR'])"
            ]
          },
          "metadata": {},
          "execution_count": 3
        }
      ]
    },
    {
      "cell_type": "code",
      "source": [
        "print (type(news.data), type(news.target), type(news.target_names))"
      ],
      "metadata": {
        "colab": {
          "base_uri": "https://localhost:8080/"
        },
        "id": "vjp1D1ZhRUmW",
        "outputId": "fb0a757b-4448-46ee-df63-d97211f0daff"
      },
      "execution_count": 4,
      "outputs": [
        {
          "output_type": "stream",
          "name": "stdout",
          "text": [
            "<class 'list'> <class 'numpy.ndarray'> <class 'list'>\n"
          ]
        }
      ]
    },
    {
      "cell_type": "code",
      "source": [
        "print(news.target_names)"
      ],
      "metadata": {
        "colab": {
          "base_uri": "https://localhost:8080/"
        },
        "id": "6bj_oJZvR17v",
        "outputId": "da1c1af3-0b53-4a30-a01a-bc27b170365d"
      },
      "execution_count": 5,
      "outputs": [
        {
          "output_type": "stream",
          "name": "stdout",
          "text": [
            "['alt.atheism', 'comp.graphics', 'comp.os.ms-windows.misc', 'comp.sys.ibm.pc.hardware', 'comp.sys.mac.hardware', 'comp.windows.x', 'misc.forsale', 'rec.autos', 'rec.motorcycles', 'rec.sport.baseball', 'rec.sport.hockey', 'sci.crypt', 'sci.electronics', 'sci.med', 'sci.space', 'soc.religion.christian', 'talk.politics.guns', 'talk.politics.mideast', 'talk.politics.misc', 'talk.religion.misc']\n"
          ]
        }
      ]
    },
    {
      "cell_type": "code",
      "source": [
        "print(len(news.data))"
      ],
      "metadata": {
        "colab": {
          "base_uri": "https://localhost:8080/"
        },
        "id": "5uG_LJw7R1-8",
        "outputId": "0632622b-c518-41c6-b53c-e735c57f15f2"
      },
      "execution_count": 6,
      "outputs": [
        {
          "output_type": "stream",
          "name": "stdout",
          "text": [
            "18846\n"
          ]
        }
      ]
    },
    {
      "cell_type": "code",
      "source": [
        "print(len(news.target))"
      ],
      "metadata": {
        "colab": {
          "base_uri": "https://localhost:8080/"
        },
        "id": "6rewPDq7R2Bj",
        "outputId": "41822e33-8feb-45ad-da07-adefbc8f117f"
      },
      "execution_count": 7,
      "outputs": [
        {
          "output_type": "stream",
          "name": "stdout",
          "text": [
            "18846\n"
          ]
        }
      ]
    },
    {
      "cell_type": "markdown",
      "source": [
        "\n",
        "\n",
        "If we look at, say, the first instance, we will see the content of a newsgroup message, and we can get its corresponding category:\n"
      ],
      "metadata": {
        "id": "c25ZGlDPSHDJ"
      }
    },
    {
      "cell_type": "code",
      "source": [
        "\n",
        "\n",
        "print(news.data[0])\n",
        "print(news.target[0], news.target_names[news.target[0]])\n",
        "\n"
      ],
      "metadata": {
        "colab": {
          "base_uri": "https://localhost:8080/"
        },
        "id": "uU2qgPVJR_kl",
        "outputId": "4b8fc846-a28d-4f28-8ce5-fa22377bbf1b"
      },
      "execution_count": 8,
      "outputs": [
        {
          "output_type": "stream",
          "name": "stdout",
          "text": [
            "From: Mamatha Devineni Ratnam <mr47+@andrew.cmu.edu>\n",
            "Subject: Pens fans reactions\n",
            "Organization: Post Office, Carnegie Mellon, Pittsburgh, PA\n",
            "Lines: 12\n",
            "NNTP-Posting-Host: po4.andrew.cmu.edu\n",
            "\n",
            "\n",
            "\n",
            "I am sure some bashers of Pens fans are pretty confused about the lack\n",
            "of any kind of posts about the recent Pens massacre of the Devils. Actually,\n",
            "I am  bit puzzled too and a bit relieved. However, I am going to put an end\n",
            "to non-PIttsburghers' relief with a bit of praise for the Pens. Man, they\n",
            "are killing those Devils worse than I thought. Jagr just showed you why\n",
            "he is much better than his regular season stats. He is also a lot\n",
            "fo fun to watch in the playoffs. Bowman should let JAgr have a lot of\n",
            "fun in the next couple of games since the Pens are going to beat the pulp out of Jersey anyway. I was very disappointed not to see the Islanders lose the final\n",
            "regular season game.          PENS RULE!!!\n",
            "\n",
            "\n",
            "10 rec.sport.hockey\n"
          ]
        }
      ]
    },
    {
      "cell_type": "markdown",
      "source": [
        "\n",
        "\n",
        "*Let*'s build the training and testing datasets:\n"
      ],
      "metadata": {
        "id": "o43kbeGxSSr7"
      }
    },
    {
      "cell_type": "code",
      "source": [
        "\n",
        "\n",
        "SPLIT_PERC = 0.75\n",
        "split_size = int(len(news.data)*SPLIT_PERC)\n",
        "X_train = news.data[:split_size]\n",
        "X_test = news.data[split_size:]\n",
        "y_train = news.target[:split_size]\n",
        "y_test = news.target[split_size:]\n",
        "\n"
      ],
      "metadata": {
        "id": "-HdOv9T9R_o0"
      },
      "execution_count": 9,
      "outputs": []
    },
    {
      "cell_type": "markdown",
      "source": [
        "\n",
        "# This function will serve to perform and evaluate a cross validation:\n"
      ],
      "metadata": {
        "id": "SKcVPSBHSgwA"
      }
    },
    {
      "cell_type": "code",
      "source": [
        "\n",
        "\n",
        "def evaluate_cross_validation(clf, X, y, K):\n",
        "    cv = KFold(K, shuffle=True, random_state=0)\n",
        "\n",
        "    scores = cross_val_score(clf, X, y, cv=cv)\n",
        "    print (scores)\n",
        "    print (f\"Mean score: {np.mean(scores)} (+/-{sem(scores)})\")\n",
        "\n"
      ],
      "metadata": {
        "id": "sLZiGW_2SgdZ"
      },
      "execution_count": 10,
      "outputs": []
    },
    {
      "cell_type": "code",
      "source": [
        "\n",
        "\n",
        "clf_1 = Pipeline([('vect', CountVectorizer()), ('clf', MultinomialNB()),])\n",
        "clf_2 = Pipeline([('vect', HashingVectorizer(alternate_sign=False)), ('clf', MultinomialNB()),])\n",
        "clf_3 = Pipeline([('vect', TfidfVectorizer()), ('clf', MultinomialNB()),])\n",
        "\n"
      ],
      "metadata": {
        "id": "PTuf9oTeR_rK"
      },
      "execution_count": 11,
      "outputs": []
    },
    {
      "cell_type": "code",
      "source": [
        "\n",
        "\n",
        "clfs = [clf_1, clf_2, clf_3]\n",
        "for clf in clfs:\n",
        "    evaluate_cross_validation(clf, news.data, news.target, 5)\n",
        "\n"
      ],
      "metadata": {
        "colab": {
          "base_uri": "https://localhost:8080/"
        },
        "id": "3PfHUOjTR_vA",
        "outputId": "bf6bb4a0-739a-42db-ae6b-13db5c359dbf"
      },
      "execution_count": 12,
      "outputs": [
        {
          "output_type": "stream",
          "name": "stdout",
          "text": [
            "[0.85782493 0.85725657 0.84664367 0.85911382 0.8458477 ]\n",
            "Mean score: 0.853337340146793 (+/-0.0029134723097208348)\n",
            "[0.75517241 0.77659857 0.77076148 0.78508888 0.76200584]\n",
            "Mean score: 0.769925435265917 (+/-0.005270348556491365)\n",
            "[0.84482759 0.85990979 0.84558238 0.85990979 0.84213319]\n",
            "Mean score: 0.8504725482840962 (+/-0.003895171759717566)\n"
          ]
        }
      ]
    },
    {
      "cell_type": "markdown",
      "source": [
        "\n",
        "\n",
        "We will keep the TF-IDF vectorizer but use a different regular expression to pefrom tokenization. The default regular expression: ur\"\\b\\w\\w+\\b\" considers alphanumeric characters and the underscore. Perhaps also considering the slash and the dot could improve the tokenization, and begin considering tokens as Wi-Fi and site.com. The new regular expression could be: ur\"\\b[a-z0-9-.]+[a-z][a-z0-9-.]+\\b\". If you have queries about how to define regular expressions, please refer to the Python re module documentation. Let's try our new classifier:\n"
      ],
      "metadata": {
        "id": "XLfbAUVMaIlY"
      }
    },
    {
      "cell_type": "code",
      "source": [
        "clf_4 = Pipeline([('clf', MultinomialNB()),])\n",
        "\n"
      ],
      "metadata": {
        "id": "6e25mI7kR2DI"
      },
      "execution_count": 17,
      "outputs": []
    },
    {
      "cell_type": "code",
      "source": [
        "evaluate_cross_validation(clf_4, news.data, news.target, 5)"
      ],
      "metadata": {
        "colab": {
          "base_uri": "https://localhost:8080/"
        },
        "id": "HvOPttLmR2GI",
        "outputId": "e03595eb-3f0a-4898-db00-668f0c7ce6b2"
      },
      "execution_count": 18,
      "outputs": [
        {
          "output_type": "stream",
          "name": "stdout",
          "text": [
            "[nan nan nan nan nan]\n",
            "Mean score: nan (+/-nan)\n"
          ]
        },
        {
          "output_type": "stream",
          "name": "stderr",
          "text": [
            "/usr/local/lib/python3.7/dist-packages/sklearn/model_selection/_validation.py:372: FitFailedWarning: \n",
            "5 fits failed out of a total of 5.\n",
            "The score on these train-test partitions for these parameters will be set to nan.\n",
            "If these failures are not expected, you can try to debug them by setting error_score='raise'.\n",
            "\n",
            "Below are more details about the failures:\n",
            "--------------------------------------------------------------------------------\n",
            "1 fits failed with the following error:\n",
            "Traceback (most recent call last):\n",
            "  File \"/usr/local/lib/python3.7/dist-packages/sklearn/model_selection/_validation.py\", line 680, in _fit_and_score\n",
            "    estimator.fit(X_train, y_train, **fit_params)\n",
            "  File \"/usr/local/lib/python3.7/dist-packages/sklearn/pipeline.py\", line 394, in fit\n",
            "    self._final_estimator.fit(Xt, y, **fit_params_last_step)\n",
            "  File \"/usr/local/lib/python3.7/dist-packages/sklearn/naive_bayes.py\", line 663, in fit\n",
            "    X, y = self._check_X_y(X, y)\n",
            "  File \"/usr/local/lib/python3.7/dist-packages/sklearn/naive_bayes.py\", line 523, in _check_X_y\n",
            "    return self._validate_data(X, y, accept_sparse=\"csr\", reset=reset)\n",
            "  File \"/usr/local/lib/python3.7/dist-packages/sklearn/base.py\", line 581, in _validate_data\n",
            "    X, y = check_X_y(X, y, **check_params)\n",
            "  File \"/usr/local/lib/python3.7/dist-packages/sklearn/utils/validation.py\", line 976, in check_X_y\n",
            "    estimator=estimator,\n",
            "  File \"/usr/local/lib/python3.7/dist-packages/sklearn/utils/validation.py\", line 773, in check_array\n",
            "    \"if it contains a single sample.\".format(array)\n",
            "ValueError: Expected 2D array, got 1D array instead:\n",
            "array=[\"From: Mamatha Devineni Ratnam <mr47+@andrew.cmu.edu>\\nSubject: Pens fans reactions\\nOrganization: Post Office, Carnegie Mellon, Pittsburgh, PA\\nLines: 12\\nNNTP-Posting-Host: po4.andrew.cmu.edu\\n\\n\\n\\nI am sure some bashers of Pens fans are pretty confused about the lack\\nof any kind of posts about the recent Pens massacre of the Devils. Actually,\\nI am  bit puzzled too and a bit relieved. However, I am going to put an end\\nto non-PIttsburghers' relief with a bit of praise for the Pens. Man, they\\nare killing those Devils worse than I thought. Jagr just showed you why\\nhe is much better than his regular season stats. He is also a lot\\nfo fun to watch in the playoffs. Bowman should let JAgr have a lot of\\nfun in the next couple of games since the Pens are going to beat the pulp out of Jersey anyway. I was very disappointed not to see the Islanders lose the final\\nregular season game.          PENS RULE!!!\\n\\n\"\n",
            " 'From: mblawson@midway.ecn.uoknor.edu (Matthew B Lawson)\\nSubject: Which high-performance VLB video card?\\nSummary: Seek recommendations for VLB video card\\nNntp-Posting-Host: midway.ecn.uoknor.edu\\nOrganization: Engineering Computer Network, University of Oklahoma, Norman, OK, USA\\nKeywords: orchid, stealth, vlb\\nLines: 21\\n\\n  My brother is in the market for a high-performance video card that supports\\nVESA local bus with 1-2MB RAM.  Does anyone have suggestions/ideas on:\\n\\n  - Diamond Stealth Pro Local Bus\\n\\n  - Orchid Farenheit 1280\\n\\n  - ATI Graphics Ultra Pro\\n\\n  - Any other high-performance VLB card\\n\\n\\nPlease post or email.  Thank you!\\n\\n  - Matt\\n\\n-- \\n    |  Matthew B. Lawson <------------> (mblawson@essex.ecn.uoknor.edu)  |   \\n  --+-- \"Now I, Nebuchadnezzar, praise and exalt and glorify the King  --+-- \\n    |   of heaven, because everything he does is right and all his ways  |   \\n    |   are just.\" - Nebuchadnezzar, king of Babylon, 562 B.C.           |   \\n'\n",
            " 'From: hilmi-er@dsv.su.se (Hilmi Eren)\\nSubject: Re: ARMENIA SAYS IT COULD SHOOT DOWN TURKISH PLANES (Henrik)\\nLines: 95\\nNntp-Posting-Host: viktoria.dsv.su.se\\nReply-To: hilmi-er@dsv.su.se (Hilmi Eren)\\nOrganization: Dept. of Computer and Systems Sciences, Stockholm University\\n\\n\\n\\n\\n|>The student of \"regional killings\" alias Davidian (not the Davidian religios sect) writes:\\n\\n\\n|>Greater Armenia would stretch from Karabakh, to the Black Sea, to the\\n|>Mediterranean, so if you use the term \"Greater Armenia\" use it with care.\\n\\n\\n\\tFinally you said what you dream about. Mediterranean???? That was new....\\n\\tThe area will be \"greater\" after some years, like your \"holocaust\" numbers......\\n\\n\\n\\n\\n|>It has always been up to the Azeris to end their announced winning of Karabakh \\n|>by removing the Armenians! When the president of Azerbaijan, Elchibey, came to \\n|>power last year, he announced he would be be \"swimming in Lake Sevan [in \\n|>Armeniaxn] by July\".\\n\\t\\t*****\\n\\tIs\\'t July in USA now????? Here in Sweden it\\'s April and still cold.\\n\\tOr have you changed your calendar???\\n\\n\\n|>Well, he was wrong! If Elchibey is going to shell the \\n|>Armenians of Karabakh from Aghdam, his people will pay the price! If Elchibey \\n\\t\\t\\t\\t\\t\\t    ****************\\n|>is going to shell Karabakh from Fizuli his people will pay the price! If \\n\\t\\t\\t\\t\\t\\t    ******************\\n|>Elchibey thinks he can get away with bombing Armenia from the hills of \\n|>Kelbajar, his people will pay the price. \\n\\t\\t\\t    ***************\\n\\n\\n\\tNOTHING OF THE MENTIONED IS TRUE, BUT LET SAY IT\\'s TRUE.\\n\\t\\n\\tSHALL THE AZERI WOMEN AND CHILDREN GOING TO PAY THE PRICE WITH\\n\\t\\t\\t\\t\\t\\t    **************\\n\\tBEING RAPED, KILLED AND TORTURED BY THE ARMENIANS??????????\\n\\t\\n\\tHAVE YOU HEARDED SOMETHING CALLED: \"GENEVA CONVENTION\"???????\\n\\tYOU FACIST!!!!!\\n\\n\\n\\n\\tOhhh i forgot, this is how Armenians fight, nobody has forgot\\n\\tyou killings, rapings and torture against the Kurds and Turks once\\n\\tupon a time!\\n      \\n       \\n\\n|>And anyway, this \"60 \\n|>Kurd refugee\" story, as have other stories, are simple fabrications sourced in \\n|>Baku, modified in Ankara. Other examples of this are Armenia has no border \\n|>with Iran, and the ridiculous story of the \"intercepting\" of Armenian military \\n|>conversations as appeared in the New York Times supposedly translated by \\n|>somebody unknown, from Armenian into Azeri Turkish, submitted by an unnamed \\n|>\"special correspondent\" to the NY Times from Baku. Real accurate!\\n\\nOhhhh so swedish RedCross workers do lie they too? What ever you say\\n\"regional killer\", if you don\\'t like the person then shoot him that\\'s your policy.....l\\n\\n\\n|>[HE]\\tSearch Turkish planes? You don\\'t know what you are talking about.<-------\\n|>[HE]\\tsince it\\'s content is announced to be weapons? \\t\\t\\t\\ti\\t \\n\\t\\t\\t\\t\\t\\t\\t\\t\\t\\ti\\n|>Well, big mouth Ozal said military weapons are being provided to Azerbaijan\\ti\\n|>from Turkey, yet Demirel and others say no. No wonder you are so confused!\\ti\\n\\t\\t\\t\\t\\t\\t\\t\\t\\t\\ti\\n\\t\\t\\t\\t\\t\\t\\t\\t\\t\\ti\\n\\tConfused?????\\t\\t\\t\\t\\t\\t\\t\\ti\\n\\tYou facist when you delete text don\\'t change it, i wrote:\\t\\ti\\n\\t\\t\\t\\t\\t\\t\\t\\t\\t\\ti\\n        Search Turkish planes? You don\\'t know what you are talking about.\\ti\\n        Turkey\\'s government has announced that it\\'s giving weapons  <-----------i\\n        to Azerbadjan since Armenia started to attack Azerbadjan\\t\\t\\n        it self, not the Karabag province. So why search a plane for weapons\\t\\n        since it\\'s content is announced to be weapons?   \\n\\n\\tIf there is one that\\'s confused then that\\'s you! We have the right (and we do)\\n\\tto give weapons to the Azeris, since Armenians started the fight in Azerbadjan!\\n \\n\\n|>You are correct, all Turkish planes should be simply shot down! Nice, slow\\n|>moving air transports!\\n\\n\\tShoot down with what? Armenian bread and butter? Or the arms and personel \\n\\tof the Russian army?\\n\\n\\n\\n\\nHilmi Eren\\nStockholm University\\n'\n",
            " ...\n",
            " \"From: rdell@cbnewsf.cb.att.com (richard.b.dell)\\nSubject: Re: A question about 120VAC outlet wiring.\\nOrganization: AT&T\\nDistribution: na\\nLines: 21\\n\\nIn article <1993Apr22.004728.6736@mtu.edu> cmwolf@mtu.edu (Engineer by Day - Asleep by Night) writes:\\n>Dave Martindale (dave@imax.imax.com) wrote:\\n>: They require two separate grounds.  One ground goes to the ground pin\\n>: of the outlet, and the other ground wire is connected to the outlet's\\n>: mounting tabs (and thus grounds the box and faceplate screw and metal\\n>: faceplate, if any).\\n>\\n>I thought the ground WAS connected to the metal frame on the socket.\\n>\\n>-- \\n>------------------------------------------------------------------------------\\n>Christopher Wolf             Electrical Engineer                cmwolf@mtu.edu\\n>------------------------------------------------------------------------------\\n>         Remember, even if you win the Rat Race - You're still a rat.\\n\\nNot in isolated ground recepticles (usually an unusual color, such as orange\\nor yellow) often used in low noise, low leakage applications, as mentioned\\nearlier in the thread.\\n\\nRichard Dell\\n\\n\"\n",
            " 'From: westes@netcom.com (Will Estes)\\nSubject: Mounting CPU Cooler in vertical case\\nOrganization: Mail Group\\nX-Newsreader: TIN [version 1.1 PL8]\\nLines: 13\\n\\nI just installed a DX2-66 CPU in a clone motherboard, and tried mounting a CPU \\ncooler on the chip.  After about 1/2 hour, the weight of the cooler was enough \\nto dislodge the CPU from its mount.  It ended up bending a few pins\\non the CPU, but luckily the power was not on yet.  I ended up\\npressing the CPU deeply into its socket and then putting the CPU\\ncooler back on.  So far so good.\\n\\nHave others had this problem?  How do you ensure that the weight of\\nthe CPU fan and heatsink do not eventually work the CPU out of its\\nsocket when mounting the motherboard in a vertical case?\\n\\n-- \\nWill Estes\\t\\tInternet: westes@netcom.com\\n'\n",
            " 'From: chriss@netcom.com (Chris Silvester)\\nSubject: \"Production Hold\" on \\'93 Firebird/Camaro w/ 6-Speed\\nOrganization: Netcom - Online Communication Services (408 241-9760 guest)\\nDistribution: usa\\nLines: 30\\n\\nAfter a tip from Gary Crum (crum@fcom.cc.utah.edu) I got on the Phone\\nwith \"Pontiac Systems\" or \"Pontaic Customer Service\" or whatever, and\\ninquired about a rumoured Production Hold on the Formula Firebird and\\nTrans Am.  BTW, Talking with the dealer I bought the car from got me\\nnowhere.  After being routed to a \"Firebird Specialist\", I was able\\nto confirm that this is in fact the case.\\n\\nAt first, there was some problem with the 3:23 performance axle ratio.\\nShe wouldn\\'t go into any details, so I don\\'t know if there were some\\nshipped that had problems, or if production was held up because they\\nsimply didn\\'t have the proper parts from the supplier.  As I say, she\\nwas pretty vague on that, so if anyone else knows anything about this,\\nfeel free to respond.  Supposedly, this problem is now solved.\\n\\nSecond, there is a definate shortage of parts that is somehow related\\nto the six-speed Manual transmission.  So as of this posting, there is\\na production hold on these cars.  She claimed part of the delay was\\nnot wanting to use inferior quality parts for the car, and therefore\\nhaving to wait for the right high quality parts...  I\\'m not positive\\nthat this applies to the Camaro as well, but I\\'m guessing it would.\\n\\nCan anyone else shed some light on this?\\n\\nChris S.\\n-- \\n--------------------------------------------------------------------------------\\nChris Silvester      | \"Any man capable of getting himself elected President\\nchriss@sam.amgen.com |  should by no means be allowed to do the job\"\\nchriss@netcom.com    |   - Douglas Adams, The Hitchhiker\\'s Guide to the Galaxy\\n--------------------------------------------------------------------------------\\n'].\n",
            "Reshape your data either using array.reshape(-1, 1) if your data has a single feature or array.reshape(1, -1) if it contains a single sample.\n",
            "\n",
            "--------------------------------------------------------------------------------\n",
            "1 fits failed with the following error:\n",
            "Traceback (most recent call last):\n",
            "  File \"/usr/local/lib/python3.7/dist-packages/sklearn/model_selection/_validation.py\", line 680, in _fit_and_score\n",
            "    estimator.fit(X_train, y_train, **fit_params)\n",
            "  File \"/usr/local/lib/python3.7/dist-packages/sklearn/pipeline.py\", line 394, in fit\n",
            "    self._final_estimator.fit(Xt, y, **fit_params_last_step)\n",
            "  File \"/usr/local/lib/python3.7/dist-packages/sklearn/naive_bayes.py\", line 663, in fit\n",
            "    X, y = self._check_X_y(X, y)\n",
            "  File \"/usr/local/lib/python3.7/dist-packages/sklearn/naive_bayes.py\", line 523, in _check_X_y\n",
            "    return self._validate_data(X, y, accept_sparse=\"csr\", reset=reset)\n",
            "  File \"/usr/local/lib/python3.7/dist-packages/sklearn/base.py\", line 581, in _validate_data\n",
            "    X, y = check_X_y(X, y, **check_params)\n",
            "  File \"/usr/local/lib/python3.7/dist-packages/sklearn/utils/validation.py\", line 976, in check_X_y\n",
            "    estimator=estimator,\n",
            "  File \"/usr/local/lib/python3.7/dist-packages/sklearn/utils/validation.py\", line 773, in check_array\n",
            "    \"if it contains a single sample.\".format(array)\n",
            "ValueError: Expected 2D array, got 1D array instead:\n",
            "array=[\"From: Mamatha Devineni Ratnam <mr47+@andrew.cmu.edu>\\nSubject: Pens fans reactions\\nOrganization: Post Office, Carnegie Mellon, Pittsburgh, PA\\nLines: 12\\nNNTP-Posting-Host: po4.andrew.cmu.edu\\n\\n\\n\\nI am sure some bashers of Pens fans are pretty confused about the lack\\nof any kind of posts about the recent Pens massacre of the Devils. Actually,\\nI am  bit puzzled too and a bit relieved. However, I am going to put an end\\nto non-PIttsburghers' relief with a bit of praise for the Pens. Man, they\\nare killing those Devils worse than I thought. Jagr just showed you why\\nhe is much better than his regular season stats. He is also a lot\\nfo fun to watch in the playoffs. Bowman should let JAgr have a lot of\\nfun in the next couple of games since the Pens are going to beat the pulp out of Jersey anyway. I was very disappointed not to see the Islanders lose the final\\nregular season game.          PENS RULE!!!\\n\\n\"\n",
            " 'From: mblawson@midway.ecn.uoknor.edu (Matthew B Lawson)\\nSubject: Which high-performance VLB video card?\\nSummary: Seek recommendations for VLB video card\\nNntp-Posting-Host: midway.ecn.uoknor.edu\\nOrganization: Engineering Computer Network, University of Oklahoma, Norman, OK, USA\\nKeywords: orchid, stealth, vlb\\nLines: 21\\n\\n  My brother is in the market for a high-performance video card that supports\\nVESA local bus with 1-2MB RAM.  Does anyone have suggestions/ideas on:\\n\\n  - Diamond Stealth Pro Local Bus\\n\\n  - Orchid Farenheit 1280\\n\\n  - ATI Graphics Ultra Pro\\n\\n  - Any other high-performance VLB card\\n\\n\\nPlease post or email.  Thank you!\\n\\n  - Matt\\n\\n-- \\n    |  Matthew B. Lawson <------------> (mblawson@essex.ecn.uoknor.edu)  |   \\n  --+-- \"Now I, Nebuchadnezzar, praise and exalt and glorify the King  --+-- \\n    |   of heaven, because everything he does is right and all his ways  |   \\n    |   are just.\" - Nebuchadnezzar, king of Babylon, 562 B.C.           |   \\n'\n",
            " 'From: hilmi-er@dsv.su.se (Hilmi Eren)\\nSubject: Re: ARMENIA SAYS IT COULD SHOOT DOWN TURKISH PLANES (Henrik)\\nLines: 95\\nNntp-Posting-Host: viktoria.dsv.su.se\\nReply-To: hilmi-er@dsv.su.se (Hilmi Eren)\\nOrganization: Dept. of Computer and Systems Sciences, Stockholm University\\n\\n\\n\\n\\n|>The student of \"regional killings\" alias Davidian (not the Davidian religios sect) writes:\\n\\n\\n|>Greater Armenia would stretch from Karabakh, to the Black Sea, to the\\n|>Mediterranean, so if you use the term \"Greater Armenia\" use it with care.\\n\\n\\n\\tFinally you said what you dream about. Mediterranean???? That was new....\\n\\tThe area will be \"greater\" after some years, like your \"holocaust\" numbers......\\n\\n\\n\\n\\n|>It has always been up to the Azeris to end their announced winning of Karabakh \\n|>by removing the Armenians! When the president of Azerbaijan, Elchibey, came to \\n|>power last year, he announced he would be be \"swimming in Lake Sevan [in \\n|>Armeniaxn] by July\".\\n\\t\\t*****\\n\\tIs\\'t July in USA now????? Here in Sweden it\\'s April and still cold.\\n\\tOr have you changed your calendar???\\n\\n\\n|>Well, he was wrong! If Elchibey is going to shell the \\n|>Armenians of Karabakh from Aghdam, his people will pay the price! If Elchibey \\n\\t\\t\\t\\t\\t\\t    ****************\\n|>is going to shell Karabakh from Fizuli his people will pay the price! If \\n\\t\\t\\t\\t\\t\\t    ******************\\n|>Elchibey thinks he can get away with bombing Armenia from the hills of \\n|>Kelbajar, his people will pay the price. \\n\\t\\t\\t    ***************\\n\\n\\n\\tNOTHING OF THE MENTIONED IS TRUE, BUT LET SAY IT\\'s TRUE.\\n\\t\\n\\tSHALL THE AZERI WOMEN AND CHILDREN GOING TO PAY THE PRICE WITH\\n\\t\\t\\t\\t\\t\\t    **************\\n\\tBEING RAPED, KILLED AND TORTURED BY THE ARMENIANS??????????\\n\\t\\n\\tHAVE YOU HEARDED SOMETHING CALLED: \"GENEVA CONVENTION\"???????\\n\\tYOU FACIST!!!!!\\n\\n\\n\\n\\tOhhh i forgot, this is how Armenians fight, nobody has forgot\\n\\tyou killings, rapings and torture against the Kurds and Turks once\\n\\tupon a time!\\n      \\n       \\n\\n|>And anyway, this \"60 \\n|>Kurd refugee\" story, as have other stories, are simple fabrications sourced in \\n|>Baku, modified in Ankara. Other examples of this are Armenia has no border \\n|>with Iran, and the ridiculous story of the \"intercepting\" of Armenian military \\n|>conversations as appeared in the New York Times supposedly translated by \\n|>somebody unknown, from Armenian into Azeri Turkish, submitted by an unnamed \\n|>\"special correspondent\" to the NY Times from Baku. Real accurate!\\n\\nOhhhh so swedish RedCross workers do lie they too? What ever you say\\n\"regional killer\", if you don\\'t like the person then shoot him that\\'s your policy.....l\\n\\n\\n|>[HE]\\tSearch Turkish planes? You don\\'t know what you are talking about.<-------\\n|>[HE]\\tsince it\\'s content is announced to be weapons? \\t\\t\\t\\ti\\t \\n\\t\\t\\t\\t\\t\\t\\t\\t\\t\\ti\\n|>Well, big mouth Ozal said military weapons are being provided to Azerbaijan\\ti\\n|>from Turkey, yet Demirel and others say no. No wonder you are so confused!\\ti\\n\\t\\t\\t\\t\\t\\t\\t\\t\\t\\ti\\n\\t\\t\\t\\t\\t\\t\\t\\t\\t\\ti\\n\\tConfused?????\\t\\t\\t\\t\\t\\t\\t\\ti\\n\\tYou facist when you delete text don\\'t change it, i wrote:\\t\\ti\\n\\t\\t\\t\\t\\t\\t\\t\\t\\t\\ti\\n        Search Turkish planes? You don\\'t know what you are talking about.\\ti\\n        Turkey\\'s government has announced that it\\'s giving weapons  <-----------i\\n        to Azerbadjan since Armenia started to attack Azerbadjan\\t\\t\\n        it self, not the Karabag province. So why search a plane for weapons\\t\\n        since it\\'s content is announced to be weapons?   \\n\\n\\tIf there is one that\\'s confused then that\\'s you! We have the right (and we do)\\n\\tto give weapons to the Azeris, since Armenians started the fight in Azerbadjan!\\n \\n\\n|>You are correct, all Turkish planes should be simply shot down! Nice, slow\\n|>moving air transports!\\n\\n\\tShoot down with what? Armenian bread and butter? Or the arms and personel \\n\\tof the Russian army?\\n\\n\\n\\n\\nHilmi Eren\\nStockholm University\\n'\n",
            " ...\n",
            " \"From: rdell@cbnewsf.cb.att.com (richard.b.dell)\\nSubject: Re: A question about 120VAC outlet wiring.\\nOrganization: AT&T\\nDistribution: na\\nLines: 21\\n\\nIn article <1993Apr22.004728.6736@mtu.edu> cmwolf@mtu.edu (Engineer by Day - Asleep by Night) writes:\\n>Dave Martindale (dave@imax.imax.com) wrote:\\n>: They require two separate grounds.  One ground goes to the ground pin\\n>: of the outlet, and the other ground wire is connected to the outlet's\\n>: mounting tabs (and thus grounds the box and faceplate screw and metal\\n>: faceplate, if any).\\n>\\n>I thought the ground WAS connected to the metal frame on the socket.\\n>\\n>-- \\n>------------------------------------------------------------------------------\\n>Christopher Wolf             Electrical Engineer                cmwolf@mtu.edu\\n>------------------------------------------------------------------------------\\n>         Remember, even if you win the Rat Race - You're still a rat.\\n\\nNot in isolated ground recepticles (usually an unusual color, such as orange\\nor yellow) often used in low noise, low leakage applications, as mentioned\\nearlier in the thread.\\n\\nRichard Dell\\n\\n\"\n",
            " 'From: westes@netcom.com (Will Estes)\\nSubject: Mounting CPU Cooler in vertical case\\nOrganization: Mail Group\\nX-Newsreader: TIN [version 1.1 PL8]\\nLines: 13\\n\\nI just installed a DX2-66 CPU in a clone motherboard, and tried mounting a CPU \\ncooler on the chip.  After about 1/2 hour, the weight of the cooler was enough \\nto dislodge the CPU from its mount.  It ended up bending a few pins\\non the CPU, but luckily the power was not on yet.  I ended up\\npressing the CPU deeply into its socket and then putting the CPU\\ncooler back on.  So far so good.\\n\\nHave others had this problem?  How do you ensure that the weight of\\nthe CPU fan and heatsink do not eventually work the CPU out of its\\nsocket when mounting the motherboard in a vertical case?\\n\\n-- \\nWill Estes\\t\\tInternet: westes@netcom.com\\n'\n",
            " \"From: steve@hcrlgw (Steven Collins)\\nSubject: Re: Sphere from 4 points?\\nOrganization: Central Research Lab. Hitachi, Ltd.\\nLines: 27\\nNntp-Posting-Host: hcrlgw\\n\\nIn article <1qkgbuINNs9n@shelley.u.washington.edu> bolson@carson.u.washington.edu (Edward Bolson) writes:\\n>Boy, this will be embarassing if it is trivial or an FAQ:\\n>\\n>Given 4 points (non coplanar), how does one find the sphere, that is,\\n>center and radius, exactly fitting those points?  I know how to do it\\n>for a circle (from 3 points), but do not immediately see a \\n>straightforward way to do it in 3-D.  I have checked some\\n>geometry books, Graphics Gems, and Farin, but am still at a loss?\\n>Please have mercy on me and provide the solution?  \\n\\nWouldn't this require a hyper-sphere.  In 3-space, 4 points over specifies\\na sphere as far as I can see.  Unless that is you can prove that a point\\nexists in 3-space that is equi-distant from the 4 points, and this may not\\nnecessarily happen.\\n\\nCorrect me if I'm wrong (which I quite possibly am!)\\n\\nsteve\\n---\\n\\n\\n\\n-- \\n+---------------------------------------+--------------------------------+\\n| Steven Collins\\t\\t\\t| email: steve@crl.hitachi.co.jp |\\n| Visiting Computer Graphics Researcher\\t| phone: (0423)-23-1111 \\t |\\n| Hitachi Central Research Lab. Tokyo.\\t| fax:   (0423)-27-7742\\t\\t |\\n\"].\n",
            "Reshape your data either using array.reshape(-1, 1) if your data has a single feature or array.reshape(1, -1) if it contains a single sample.\n",
            "\n",
            "--------------------------------------------------------------------------------\n",
            "1 fits failed with the following error:\n",
            "Traceback (most recent call last):\n",
            "  File \"/usr/local/lib/python3.7/dist-packages/sklearn/model_selection/_validation.py\", line 680, in _fit_and_score\n",
            "    estimator.fit(X_train, y_train, **fit_params)\n",
            "  File \"/usr/local/lib/python3.7/dist-packages/sklearn/pipeline.py\", line 394, in fit\n",
            "    self._final_estimator.fit(Xt, y, **fit_params_last_step)\n",
            "  File \"/usr/local/lib/python3.7/dist-packages/sklearn/naive_bayes.py\", line 663, in fit\n",
            "    X, y = self._check_X_y(X, y)\n",
            "  File \"/usr/local/lib/python3.7/dist-packages/sklearn/naive_bayes.py\", line 523, in _check_X_y\n",
            "    return self._validate_data(X, y, accept_sparse=\"csr\", reset=reset)\n",
            "  File \"/usr/local/lib/python3.7/dist-packages/sklearn/base.py\", line 581, in _validate_data\n",
            "    X, y = check_X_y(X, y, **check_params)\n",
            "  File \"/usr/local/lib/python3.7/dist-packages/sklearn/utils/validation.py\", line 976, in check_X_y\n",
            "    estimator=estimator,\n",
            "  File \"/usr/local/lib/python3.7/dist-packages/sklearn/utils/validation.py\", line 773, in check_array\n",
            "    \"if it contains a single sample.\".format(array)\n",
            "ValueError: Expected 2D array, got 1D array instead:\n",
            "array=['From: mblawson@midway.ecn.uoknor.edu (Matthew B Lawson)\\nSubject: Which high-performance VLB video card?\\nSummary: Seek recommendations for VLB video card\\nNntp-Posting-Host: midway.ecn.uoknor.edu\\nOrganization: Engineering Computer Network, University of Oklahoma, Norman, OK, USA\\nKeywords: orchid, stealth, vlb\\nLines: 21\\n\\n  My brother is in the market for a high-performance video card that supports\\nVESA local bus with 1-2MB RAM.  Does anyone have suggestions/ideas on:\\n\\n  - Diamond Stealth Pro Local Bus\\n\\n  - Orchid Farenheit 1280\\n\\n  - ATI Graphics Ultra Pro\\n\\n  - Any other high-performance VLB card\\n\\n\\nPlease post or email.  Thank you!\\n\\n  - Matt\\n\\n-- \\n    |  Matthew B. Lawson <------------> (mblawson@essex.ecn.uoknor.edu)  |   \\n  --+-- \"Now I, Nebuchadnezzar, praise and exalt and glorify the King  --+-- \\n    |   of heaven, because everything he does is right and all his ways  |   \\n    |   are just.\" - Nebuchadnezzar, king of Babylon, 562 B.C.           |   \\n'\n",
            " 'From: guyd@austin.ibm.com (Guy Dawson)\\nSubject: Re: IDE vs SCSI, DMA and detach\\nOriginator: guyd@pal500.austin.ibm.com\\nOrganization: IBM Austin\\nLines: 60\\n\\n\\nIn article <1993Apr19.034517.12820@julian.uwo.ca>, wlsmith@valve.heart.rri.uwo.ca (Wayne Smith) writes:\\n> In article <RICHK.93Apr15075248@gozer.grebyn.com> richk@grebyn.com (Richard Krehbiel) writes:\\n> >>     Can anyone explain in fairly simple terms why, if I get OS/2, I might \\n> >>   need an SCSI controler rather than an IDE.  Will performance suffer that\\n> >>   much?  For a 200MB or so drive?  If I don\\'t have a tape drive or CD-ROM?\\n> >>   Any help would be appreciated.\\n> \\n> >So, when you\\'ve got multi-tasking, you want to increase performance by\\n> >increasing the amount of overlapping you do.\\n> >\\n> >One way is with DMA or bus mastering.  Either of these make it\\n> >possible for I/O devices to move their data into and out of memory\\n> >without interrupting the CPU.  The alternative is for the CPU to move\\n> >the data.  There are several SCSI interface cards that allow DMA and\\n> >bus mastering.\\n>  ^^^^^^^^^^^^\\n> How do you do bus-mastering on the ISA bus?\\n> \\n> >IDE, however, is defined by the standard AT interface\\n> >created for the IBM PC AT, which requires the CPU to move all the data\\n> >bytes, with no DMA.\\n> \\n> If we\\'re talking ISA (AT) bus here, then you can only have 1 DMA channel\\n> active at any one time, presumably transferring data from a single device.\\n> So even though you can have at least 7 devices on a SCSI bus, explain how\\n> all 7 of those devices can to DMA transfers through a single SCSI card\\n> to the ISA-AT bus at the same time.\\n\\nThink!\\n\\nIt\\'s the SCSI card doing the DMA transfers NOT the disks...\\n\\nThe SCSI card can do DMA transfers containing data from any of the SCSI devices\\nit is attached when it wants to.\\n\\nAn important feature of SCSI is the ability to detach a device. This frees the\\nSCSI bus for other devices. This is typically used in a multi-tasking OS to\\nstart transfers on several devices. While each device is seeking the data the\\nbus is free for other commands and data transfers. When the devices are\\nready to transfer the data they can aquire the bus and send the data.\\n\\nOn an IDE bus when you start a transfer the bus is busy until the disk has seeked\\nthe data and transfered it. This is typically a 10-20ms second lock out for other\\nprocesses wanting the bus irrespective of transfer time.\\n\\n> \\n> Also, I\\'m still trying to track down a copy of IBM\\'s AT reference book,\\n> but from their PC technical manual (page 2-93):\\n> \\n> \"The (FDD) adapter is buffered on the I.O bus and uses the System Board\\n> direct memory access (DMA) for record data transfers.\"\\n> I expect to see something similar for the PC-AT HDD adapter.  \\n> So the lowly low-density original PC FDD card used DMA and the PC-AT\\n> HDD controller doesn\\'t!?!?  That makes real sense.\\n-- \\n-- -----------------------------------------------------------------------------\\nGuy Dawson - Hoskyns Group Plc.\\n        guyd@hoskyns.co.uk  Tel Hoskyns UK     -  71 251 2128\\n        guyd@austin.ibm.com Tel IBM Austin USA - 512 838 3377\\n'\n",
            " 'From: Alexander Samuel McDiarmid <am2o+@andrew.cmu.edu>\\nSubject: driver ??\\nOrganization: Sophomore, Mechanical Engineering, Carnegie Mellon, Pittsburgh, PA\\nLines: 15\\nNNTP-Posting-Host: po4.andrew.cmu.edu\\n\\n \\n1)    I have an old Jasmine drive which I cannot use with my new system.\\n My understanding is that I have to upsate the driver with a more modern\\none in order to gain compatability with system 7.0.1.  does anyone know\\nof an inexpensive program to do this?  ( I have seen formatters for <$20\\nbuit have no idea if they will work)\\n \\n2)     I have another ancient device, this one a tape drive for which\\nthe back utility freezes the system if I try to use it.  THe drive is a\\njasmine direct tape (bought used for $150 w/ 6 tapes, techmar\\nmechanism).  Essentially I have the same question as above, anyone know\\nof an inexpensive beckup utility I can use with system 7.0.1\\n \\nall help and advice appriciated.\\n\\n'\n",
            " ...\n",
            " 'From: westes@netcom.com (Will Estes)\\nSubject: Mounting CPU Cooler in vertical case\\nOrganization: Mail Group\\nX-Newsreader: TIN [version 1.1 PL8]\\nLines: 13\\n\\nI just installed a DX2-66 CPU in a clone motherboard, and tried mounting a CPU \\ncooler on the chip.  After about 1/2 hour, the weight of the cooler was enough \\nto dislodge the CPU from its mount.  It ended up bending a few pins\\non the CPU, but luckily the power was not on yet.  I ended up\\npressing the CPU deeply into its socket and then putting the CPU\\ncooler back on.  So far so good.\\n\\nHave others had this problem?  How do you ensure that the weight of\\nthe CPU fan and heatsink do not eventually work the CPU out of its\\nsocket when mounting the motherboard in a vertical case?\\n\\n-- \\nWill Estes\\t\\tInternet: westes@netcom.com\\n'\n",
            " \"From: steve@hcrlgw (Steven Collins)\\nSubject: Re: Sphere from 4 points?\\nOrganization: Central Research Lab. Hitachi, Ltd.\\nLines: 27\\nNntp-Posting-Host: hcrlgw\\n\\nIn article <1qkgbuINNs9n@shelley.u.washington.edu> bolson@carson.u.washington.edu (Edward Bolson) writes:\\n>Boy, this will be embarassing if it is trivial or an FAQ:\\n>\\n>Given 4 points (non coplanar), how does one find the sphere, that is,\\n>center and radius, exactly fitting those points?  I know how to do it\\n>for a circle (from 3 points), but do not immediately see a \\n>straightforward way to do it in 3-D.  I have checked some\\n>geometry books, Graphics Gems, and Farin, but am still at a loss?\\n>Please have mercy on me and provide the solution?  \\n\\nWouldn't this require a hyper-sphere.  In 3-space, 4 points over specifies\\na sphere as far as I can see.  Unless that is you can prove that a point\\nexists in 3-space that is equi-distant from the 4 points, and this may not\\nnecessarily happen.\\n\\nCorrect me if I'm wrong (which I quite possibly am!)\\n\\nsteve\\n---\\n\\n\\n\\n-- \\n+---------------------------------------+--------------------------------+\\n| Steven Collins\\t\\t\\t| email: steve@crl.hitachi.co.jp |\\n| Visiting Computer Graphics Researcher\\t| phone: (0423)-23-1111 \\t |\\n| Hitachi Central Research Lab. Tokyo.\\t| fax:   (0423)-27-7742\\t\\t |\\n\"\n",
            " 'From: chriss@netcom.com (Chris Silvester)\\nSubject: \"Production Hold\" on \\'93 Firebird/Camaro w/ 6-Speed\\nOrganization: Netcom - Online Communication Services (408 241-9760 guest)\\nDistribution: usa\\nLines: 30\\n\\nAfter a tip from Gary Crum (crum@fcom.cc.utah.edu) I got on the Phone\\nwith \"Pontiac Systems\" or \"Pontaic Customer Service\" or whatever, and\\ninquired about a rumoured Production Hold on the Formula Firebird and\\nTrans Am.  BTW, Talking with the dealer I bought the car from got me\\nnowhere.  After being routed to a \"Firebird Specialist\", I was able\\nto confirm that this is in fact the case.\\n\\nAt first, there was some problem with the 3:23 performance axle ratio.\\nShe wouldn\\'t go into any details, so I don\\'t know if there were some\\nshipped that had problems, or if production was held up because they\\nsimply didn\\'t have the proper parts from the supplier.  As I say, she\\nwas pretty vague on that, so if anyone else knows anything about this,\\nfeel free to respond.  Supposedly, this problem is now solved.\\n\\nSecond, there is a definate shortage of parts that is somehow related\\nto the six-speed Manual transmission.  So as of this posting, there is\\na production hold on these cars.  She claimed part of the delay was\\nnot wanting to use inferior quality parts for the car, and therefore\\nhaving to wait for the right high quality parts...  I\\'m not positive\\nthat this applies to the Camaro as well, but I\\'m guessing it would.\\n\\nCan anyone else shed some light on this?\\n\\nChris S.\\n-- \\n--------------------------------------------------------------------------------\\nChris Silvester      | \"Any man capable of getting himself elected President\\nchriss@sam.amgen.com |  should by no means be allowed to do the job\"\\nchriss@netcom.com    |   - Douglas Adams, The Hitchhiker\\'s Guide to the Galaxy\\n--------------------------------------------------------------------------------\\n'].\n",
            "Reshape your data either using array.reshape(-1, 1) if your data has a single feature or array.reshape(1, -1) if it contains a single sample.\n",
            "\n",
            "--------------------------------------------------------------------------------\n",
            "1 fits failed with the following error:\n",
            "Traceback (most recent call last):\n",
            "  File \"/usr/local/lib/python3.7/dist-packages/sklearn/model_selection/_validation.py\", line 680, in _fit_and_score\n",
            "    estimator.fit(X_train, y_train, **fit_params)\n",
            "  File \"/usr/local/lib/python3.7/dist-packages/sklearn/pipeline.py\", line 394, in fit\n",
            "    self._final_estimator.fit(Xt, y, **fit_params_last_step)\n",
            "  File \"/usr/local/lib/python3.7/dist-packages/sklearn/naive_bayes.py\", line 663, in fit\n",
            "    X, y = self._check_X_y(X, y)\n",
            "  File \"/usr/local/lib/python3.7/dist-packages/sklearn/naive_bayes.py\", line 523, in _check_X_y\n",
            "    return self._validate_data(X, y, accept_sparse=\"csr\", reset=reset)\n",
            "  File \"/usr/local/lib/python3.7/dist-packages/sklearn/base.py\", line 581, in _validate_data\n",
            "    X, y = check_X_y(X, y, **check_params)\n",
            "  File \"/usr/local/lib/python3.7/dist-packages/sklearn/utils/validation.py\", line 976, in check_X_y\n",
            "    estimator=estimator,\n",
            "  File \"/usr/local/lib/python3.7/dist-packages/sklearn/utils/validation.py\", line 773, in check_array\n",
            "    \"if it contains a single sample.\".format(array)\n",
            "ValueError: Expected 2D array, got 1D array instead:\n",
            "array=[\"From: Mamatha Devineni Ratnam <mr47+@andrew.cmu.edu>\\nSubject: Pens fans reactions\\nOrganization: Post Office, Carnegie Mellon, Pittsburgh, PA\\nLines: 12\\nNNTP-Posting-Host: po4.andrew.cmu.edu\\n\\n\\n\\nI am sure some bashers of Pens fans are pretty confused about the lack\\nof any kind of posts about the recent Pens massacre of the Devils. Actually,\\nI am  bit puzzled too and a bit relieved. However, I am going to put an end\\nto non-PIttsburghers' relief with a bit of praise for the Pens. Man, they\\nare killing those Devils worse than I thought. Jagr just showed you why\\nhe is much better than his regular season stats. He is also a lot\\nfo fun to watch in the playoffs. Bowman should let JAgr have a lot of\\nfun in the next couple of games since the Pens are going to beat the pulp out of Jersey anyway. I was very disappointed not to see the Islanders lose the final\\nregular season game.          PENS RULE!!!\\n\\n\"\n",
            " 'From: hilmi-er@dsv.su.se (Hilmi Eren)\\nSubject: Re: ARMENIA SAYS IT COULD SHOOT DOWN TURKISH PLANES (Henrik)\\nLines: 95\\nNntp-Posting-Host: viktoria.dsv.su.se\\nReply-To: hilmi-er@dsv.su.se (Hilmi Eren)\\nOrganization: Dept. of Computer and Systems Sciences, Stockholm University\\n\\n\\n\\n\\n|>The student of \"regional killings\" alias Davidian (not the Davidian religios sect) writes:\\n\\n\\n|>Greater Armenia would stretch from Karabakh, to the Black Sea, to the\\n|>Mediterranean, so if you use the term \"Greater Armenia\" use it with care.\\n\\n\\n\\tFinally you said what you dream about. Mediterranean???? That was new....\\n\\tThe area will be \"greater\" after some years, like your \"holocaust\" numbers......\\n\\n\\n\\n\\n|>It has always been up to the Azeris to end their announced winning of Karabakh \\n|>by removing the Armenians! When the president of Azerbaijan, Elchibey, came to \\n|>power last year, he announced he would be be \"swimming in Lake Sevan [in \\n|>Armeniaxn] by July\".\\n\\t\\t*****\\n\\tIs\\'t July in USA now????? Here in Sweden it\\'s April and still cold.\\n\\tOr have you changed your calendar???\\n\\n\\n|>Well, he was wrong! If Elchibey is going to shell the \\n|>Armenians of Karabakh from Aghdam, his people will pay the price! If Elchibey \\n\\t\\t\\t\\t\\t\\t    ****************\\n|>is going to shell Karabakh from Fizuli his people will pay the price! If \\n\\t\\t\\t\\t\\t\\t    ******************\\n|>Elchibey thinks he can get away with bombing Armenia from the hills of \\n|>Kelbajar, his people will pay the price. \\n\\t\\t\\t    ***************\\n\\n\\n\\tNOTHING OF THE MENTIONED IS TRUE, BUT LET SAY IT\\'s TRUE.\\n\\t\\n\\tSHALL THE AZERI WOMEN AND CHILDREN GOING TO PAY THE PRICE WITH\\n\\t\\t\\t\\t\\t\\t    **************\\n\\tBEING RAPED, KILLED AND TORTURED BY THE ARMENIANS??????????\\n\\t\\n\\tHAVE YOU HEARDED SOMETHING CALLED: \"GENEVA CONVENTION\"???????\\n\\tYOU FACIST!!!!!\\n\\n\\n\\n\\tOhhh i forgot, this is how Armenians fight, nobody has forgot\\n\\tyou killings, rapings and torture against the Kurds and Turks once\\n\\tupon a time!\\n      \\n       \\n\\n|>And anyway, this \"60 \\n|>Kurd refugee\" story, as have other stories, are simple fabrications sourced in \\n|>Baku, modified in Ankara. Other examples of this are Armenia has no border \\n|>with Iran, and the ridiculous story of the \"intercepting\" of Armenian military \\n|>conversations as appeared in the New York Times supposedly translated by \\n|>somebody unknown, from Armenian into Azeri Turkish, submitted by an unnamed \\n|>\"special correspondent\" to the NY Times from Baku. Real accurate!\\n\\nOhhhh so swedish RedCross workers do lie they too? What ever you say\\n\"regional killer\", if you don\\'t like the person then shoot him that\\'s your policy.....l\\n\\n\\n|>[HE]\\tSearch Turkish planes? You don\\'t know what you are talking about.<-------\\n|>[HE]\\tsince it\\'s content is announced to be weapons? \\t\\t\\t\\ti\\t \\n\\t\\t\\t\\t\\t\\t\\t\\t\\t\\ti\\n|>Well, big mouth Ozal said military weapons are being provided to Azerbaijan\\ti\\n|>from Turkey, yet Demirel and others say no. No wonder you are so confused!\\ti\\n\\t\\t\\t\\t\\t\\t\\t\\t\\t\\ti\\n\\t\\t\\t\\t\\t\\t\\t\\t\\t\\ti\\n\\tConfused?????\\t\\t\\t\\t\\t\\t\\t\\ti\\n\\tYou facist when you delete text don\\'t change it, i wrote:\\t\\ti\\n\\t\\t\\t\\t\\t\\t\\t\\t\\t\\ti\\n        Search Turkish planes? You don\\'t know what you are talking about.\\ti\\n        Turkey\\'s government has announced that it\\'s giving weapons  <-----------i\\n        to Azerbadjan since Armenia started to attack Azerbadjan\\t\\t\\n        it self, not the Karabag province. So why search a plane for weapons\\t\\n        since it\\'s content is announced to be weapons?   \\n\\n\\tIf there is one that\\'s confused then that\\'s you! We have the right (and we do)\\n\\tto give weapons to the Azeris, since Armenians started the fight in Azerbadjan!\\n \\n\\n|>You are correct, all Turkish planes should be simply shot down! Nice, slow\\n|>moving air transports!\\n\\n\\tShoot down with what? Armenian bread and butter? Or the arms and personel \\n\\tof the Russian army?\\n\\n\\n\\n\\nHilmi Eren\\nStockholm University\\n'\n",
            " 'From: guyd@austin.ibm.com (Guy Dawson)\\nSubject: Re: IDE vs SCSI, DMA and detach\\nOriginator: guyd@pal500.austin.ibm.com\\nOrganization: IBM Austin\\nLines: 60\\n\\n\\nIn article <1993Apr19.034517.12820@julian.uwo.ca>, wlsmith@valve.heart.rri.uwo.ca (Wayne Smith) writes:\\n> In article <RICHK.93Apr15075248@gozer.grebyn.com> richk@grebyn.com (Richard Krehbiel) writes:\\n> >>     Can anyone explain in fairly simple terms why, if I get OS/2, I might \\n> >>   need an SCSI controler rather than an IDE.  Will performance suffer that\\n> >>   much?  For a 200MB or so drive?  If I don\\'t have a tape drive or CD-ROM?\\n> >>   Any help would be appreciated.\\n> \\n> >So, when you\\'ve got multi-tasking, you want to increase performance by\\n> >increasing the amount of overlapping you do.\\n> >\\n> >One way is with DMA or bus mastering.  Either of these make it\\n> >possible for I/O devices to move their data into and out of memory\\n> >without interrupting the CPU.  The alternative is for the CPU to move\\n> >the data.  There are several SCSI interface cards that allow DMA and\\n> >bus mastering.\\n>  ^^^^^^^^^^^^\\n> How do you do bus-mastering on the ISA bus?\\n> \\n> >IDE, however, is defined by the standard AT interface\\n> >created for the IBM PC AT, which requires the CPU to move all the data\\n> >bytes, with no DMA.\\n> \\n> If we\\'re talking ISA (AT) bus here, then you can only have 1 DMA channel\\n> active at any one time, presumably transferring data from a single device.\\n> So even though you can have at least 7 devices on a SCSI bus, explain how\\n> all 7 of those devices can to DMA transfers through a single SCSI card\\n> to the ISA-AT bus at the same time.\\n\\nThink!\\n\\nIt\\'s the SCSI card doing the DMA transfers NOT the disks...\\n\\nThe SCSI card can do DMA transfers containing data from any of the SCSI devices\\nit is attached when it wants to.\\n\\nAn important feature of SCSI is the ability to detach a device. This frees the\\nSCSI bus for other devices. This is typically used in a multi-tasking OS to\\nstart transfers on several devices. While each device is seeking the data the\\nbus is free for other commands and data transfers. When the devices are\\nready to transfer the data they can aquire the bus and send the data.\\n\\nOn an IDE bus when you start a transfer the bus is busy until the disk has seeked\\nthe data and transfered it. This is typically a 10-20ms second lock out for other\\nprocesses wanting the bus irrespective of transfer time.\\n\\n> \\n> Also, I\\'m still trying to track down a copy of IBM\\'s AT reference book,\\n> but from their PC technical manual (page 2-93):\\n> \\n> \"The (FDD) adapter is buffered on the I.O bus and uses the System Board\\n> direct memory access (DMA) for record data transfers.\"\\n> I expect to see something similar for the PC-AT HDD adapter.  \\n> So the lowly low-density original PC FDD card used DMA and the PC-AT\\n> HDD controller doesn\\'t!?!?  That makes real sense.\\n-- \\n-- -----------------------------------------------------------------------------\\nGuy Dawson - Hoskyns Group Plc.\\n        guyd@hoskyns.co.uk  Tel Hoskyns UK     -  71 251 2128\\n        guyd@austin.ibm.com Tel IBM Austin USA - 512 838 3377\\n'\n",
            " ...\n",
            " 'From: westes@netcom.com (Will Estes)\\nSubject: Mounting CPU Cooler in vertical case\\nOrganization: Mail Group\\nX-Newsreader: TIN [version 1.1 PL8]\\nLines: 13\\n\\nI just installed a DX2-66 CPU in a clone motherboard, and tried mounting a CPU \\ncooler on the chip.  After about 1/2 hour, the weight of the cooler was enough \\nto dislodge the CPU from its mount.  It ended up bending a few pins\\non the CPU, but luckily the power was not on yet.  I ended up\\npressing the CPU deeply into its socket and then putting the CPU\\ncooler back on.  So far so good.\\n\\nHave others had this problem?  How do you ensure that the weight of\\nthe CPU fan and heatsink do not eventually work the CPU out of its\\nsocket when mounting the motherboard in a vertical case?\\n\\n-- \\nWill Estes\\t\\tInternet: westes@netcom.com\\n'\n",
            " \"From: steve@hcrlgw (Steven Collins)\\nSubject: Re: Sphere from 4 points?\\nOrganization: Central Research Lab. Hitachi, Ltd.\\nLines: 27\\nNntp-Posting-Host: hcrlgw\\n\\nIn article <1qkgbuINNs9n@shelley.u.washington.edu> bolson@carson.u.washington.edu (Edward Bolson) writes:\\n>Boy, this will be embarassing if it is trivial or an FAQ:\\n>\\n>Given 4 points (non coplanar), how does one find the sphere, that is,\\n>center and radius, exactly fitting those points?  I know how to do it\\n>for a circle (from 3 points), but do not immediately see a \\n>straightforward way to do it in 3-D.  I have checked some\\n>geometry books, Graphics Gems, and Farin, but am still at a loss?\\n>Please have mercy on me and provide the solution?  \\n\\nWouldn't this require a hyper-sphere.  In 3-space, 4 points over specifies\\na sphere as far as I can see.  Unless that is you can prove that a point\\nexists in 3-space that is equi-distant from the 4 points, and this may not\\nnecessarily happen.\\n\\nCorrect me if I'm wrong (which I quite possibly am!)\\n\\nsteve\\n---\\n\\n\\n\\n-- \\n+---------------------------------------+--------------------------------+\\n| Steven Collins\\t\\t\\t| email: steve@crl.hitachi.co.jp |\\n| Visiting Computer Graphics Researcher\\t| phone: (0423)-23-1111 \\t |\\n| Hitachi Central Research Lab. Tokyo.\\t| fax:   (0423)-27-7742\\t\\t |\\n\"\n",
            " 'From: chriss@netcom.com (Chris Silvester)\\nSubject: \"Production Hold\" on \\'93 Firebird/Camaro w/ 6-Speed\\nOrganization: Netcom - Online Communication Services (408 241-9760 guest)\\nDistribution: usa\\nLines: 30\\n\\nAfter a tip from Gary Crum (crum@fcom.cc.utah.edu) I got on the Phone\\nwith \"Pontiac Systems\" or \"Pontaic Customer Service\" or whatever, and\\ninquired about a rumoured Production Hold on the Formula Firebird and\\nTrans Am.  BTW, Talking with the dealer I bought the car from got me\\nnowhere.  After being routed to a \"Firebird Specialist\", I was able\\nto confirm that this is in fact the case.\\n\\nAt first, there was some problem with the 3:23 performance axle ratio.\\nShe wouldn\\'t go into any details, so I don\\'t know if there were some\\nshipped that had problems, or if production was held up because they\\nsimply didn\\'t have the proper parts from the supplier.  As I say, she\\nwas pretty vague on that, so if anyone else knows anything about this,\\nfeel free to respond.  Supposedly, this problem is now solved.\\n\\nSecond, there is a definate shortage of parts that is somehow related\\nto the six-speed Manual transmission.  So as of this posting, there is\\na production hold on these cars.  She claimed part of the delay was\\nnot wanting to use inferior quality parts for the car, and therefore\\nhaving to wait for the right high quality parts...  I\\'m not positive\\nthat this applies to the Camaro as well, but I\\'m guessing it would.\\n\\nCan anyone else shed some light on this?\\n\\nChris S.\\n-- \\n--------------------------------------------------------------------------------\\nChris Silvester      | \"Any man capable of getting himself elected President\\nchriss@sam.amgen.com |  should by no means be allowed to do the job\"\\nchriss@netcom.com    |   - Douglas Adams, The Hitchhiker\\'s Guide to the Galaxy\\n--------------------------------------------------------------------------------\\n'].\n",
            "Reshape your data either using array.reshape(-1, 1) if your data has a single feature or array.reshape(1, -1) if it contains a single sample.\n",
            "\n",
            "--------------------------------------------------------------------------------\n",
            "1 fits failed with the following error:\n",
            "Traceback (most recent call last):\n",
            "  File \"/usr/local/lib/python3.7/dist-packages/sklearn/model_selection/_validation.py\", line 680, in _fit_and_score\n",
            "    estimator.fit(X_train, y_train, **fit_params)\n",
            "  File \"/usr/local/lib/python3.7/dist-packages/sklearn/pipeline.py\", line 394, in fit\n",
            "    self._final_estimator.fit(Xt, y, **fit_params_last_step)\n",
            "  File \"/usr/local/lib/python3.7/dist-packages/sklearn/naive_bayes.py\", line 663, in fit\n",
            "    X, y = self._check_X_y(X, y)\n",
            "  File \"/usr/local/lib/python3.7/dist-packages/sklearn/naive_bayes.py\", line 523, in _check_X_y\n",
            "    return self._validate_data(X, y, accept_sparse=\"csr\", reset=reset)\n",
            "  File \"/usr/local/lib/python3.7/dist-packages/sklearn/base.py\", line 581, in _validate_data\n",
            "    X, y = check_X_y(X, y, **check_params)\n",
            "  File \"/usr/local/lib/python3.7/dist-packages/sklearn/utils/validation.py\", line 976, in check_X_y\n",
            "    estimator=estimator,\n",
            "  File \"/usr/local/lib/python3.7/dist-packages/sklearn/utils/validation.py\", line 773, in check_array\n",
            "    \"if it contains a single sample.\".format(array)\n",
            "ValueError: Expected 2D array, got 1D array instead:\n",
            "array=[\"From: Mamatha Devineni Ratnam <mr47+@andrew.cmu.edu>\\nSubject: Pens fans reactions\\nOrganization: Post Office, Carnegie Mellon, Pittsburgh, PA\\nLines: 12\\nNNTP-Posting-Host: po4.andrew.cmu.edu\\n\\n\\n\\nI am sure some bashers of Pens fans are pretty confused about the lack\\nof any kind of posts about the recent Pens massacre of the Devils. Actually,\\nI am  bit puzzled too and a bit relieved. However, I am going to put an end\\nto non-PIttsburghers' relief with a bit of praise for the Pens. Man, they\\nare killing those Devils worse than I thought. Jagr just showed you why\\nhe is much better than his regular season stats. He is also a lot\\nfo fun to watch in the playoffs. Bowman should let JAgr have a lot of\\nfun in the next couple of games since the Pens are going to beat the pulp out of Jersey anyway. I was very disappointed not to see the Islanders lose the final\\nregular season game.          PENS RULE!!!\\n\\n\"\n",
            " 'From: mblawson@midway.ecn.uoknor.edu (Matthew B Lawson)\\nSubject: Which high-performance VLB video card?\\nSummary: Seek recommendations for VLB video card\\nNntp-Posting-Host: midway.ecn.uoknor.edu\\nOrganization: Engineering Computer Network, University of Oklahoma, Norman, OK, USA\\nKeywords: orchid, stealth, vlb\\nLines: 21\\n\\n  My brother is in the market for a high-performance video card that supports\\nVESA local bus with 1-2MB RAM.  Does anyone have suggestions/ideas on:\\n\\n  - Diamond Stealth Pro Local Bus\\n\\n  - Orchid Farenheit 1280\\n\\n  - ATI Graphics Ultra Pro\\n\\n  - Any other high-performance VLB card\\n\\n\\nPlease post or email.  Thank you!\\n\\n  - Matt\\n\\n-- \\n    |  Matthew B. Lawson <------------> (mblawson@essex.ecn.uoknor.edu)  |   \\n  --+-- \"Now I, Nebuchadnezzar, praise and exalt and glorify the King  --+-- \\n    |   of heaven, because everything he does is right and all his ways  |   \\n    |   are just.\" - Nebuchadnezzar, king of Babylon, 562 B.C.           |   \\n'\n",
            " 'From: hilmi-er@dsv.su.se (Hilmi Eren)\\nSubject: Re: ARMENIA SAYS IT COULD SHOOT DOWN TURKISH PLANES (Henrik)\\nLines: 95\\nNntp-Posting-Host: viktoria.dsv.su.se\\nReply-To: hilmi-er@dsv.su.se (Hilmi Eren)\\nOrganization: Dept. of Computer and Systems Sciences, Stockholm University\\n\\n\\n\\n\\n|>The student of \"regional killings\" alias Davidian (not the Davidian religios sect) writes:\\n\\n\\n|>Greater Armenia would stretch from Karabakh, to the Black Sea, to the\\n|>Mediterranean, so if you use the term \"Greater Armenia\" use it with care.\\n\\n\\n\\tFinally you said what you dream about. Mediterranean???? That was new....\\n\\tThe area will be \"greater\" after some years, like your \"holocaust\" numbers......\\n\\n\\n\\n\\n|>It has always been up to the Azeris to end their announced winning of Karabakh \\n|>by removing the Armenians! When the president of Azerbaijan, Elchibey, came to \\n|>power last year, he announced he would be be \"swimming in Lake Sevan [in \\n|>Armeniaxn] by July\".\\n\\t\\t*****\\n\\tIs\\'t July in USA now????? Here in Sweden it\\'s April and still cold.\\n\\tOr have you changed your calendar???\\n\\n\\n|>Well, he was wrong! If Elchibey is going to shell the \\n|>Armenians of Karabakh from Aghdam, his people will pay the price! If Elchibey \\n\\t\\t\\t\\t\\t\\t    ****************\\n|>is going to shell Karabakh from Fizuli his people will pay the price! If \\n\\t\\t\\t\\t\\t\\t    ******************\\n|>Elchibey thinks he can get away with bombing Armenia from the hills of \\n|>Kelbajar, his people will pay the price. \\n\\t\\t\\t    ***************\\n\\n\\n\\tNOTHING OF THE MENTIONED IS TRUE, BUT LET SAY IT\\'s TRUE.\\n\\t\\n\\tSHALL THE AZERI WOMEN AND CHILDREN GOING TO PAY THE PRICE WITH\\n\\t\\t\\t\\t\\t\\t    **************\\n\\tBEING RAPED, KILLED AND TORTURED BY THE ARMENIANS??????????\\n\\t\\n\\tHAVE YOU HEARDED SOMETHING CALLED: \"GENEVA CONVENTION\"???????\\n\\tYOU FACIST!!!!!\\n\\n\\n\\n\\tOhhh i forgot, this is how Armenians fight, nobody has forgot\\n\\tyou killings, rapings and torture against the Kurds and Turks once\\n\\tupon a time!\\n      \\n       \\n\\n|>And anyway, this \"60 \\n|>Kurd refugee\" story, as have other stories, are simple fabrications sourced in \\n|>Baku, modified in Ankara. Other examples of this are Armenia has no border \\n|>with Iran, and the ridiculous story of the \"intercepting\" of Armenian military \\n|>conversations as appeared in the New York Times supposedly translated by \\n|>somebody unknown, from Armenian into Azeri Turkish, submitted by an unnamed \\n|>\"special correspondent\" to the NY Times from Baku. Real accurate!\\n\\nOhhhh so swedish RedCross workers do lie they too? What ever you say\\n\"regional killer\", if you don\\'t like the person then shoot him that\\'s your policy.....l\\n\\n\\n|>[HE]\\tSearch Turkish planes? You don\\'t know what you are talking about.<-------\\n|>[HE]\\tsince it\\'s content is announced to be weapons? \\t\\t\\t\\ti\\t \\n\\t\\t\\t\\t\\t\\t\\t\\t\\t\\ti\\n|>Well, big mouth Ozal said military weapons are being provided to Azerbaijan\\ti\\n|>from Turkey, yet Demirel and others say no. No wonder you are so confused!\\ti\\n\\t\\t\\t\\t\\t\\t\\t\\t\\t\\ti\\n\\t\\t\\t\\t\\t\\t\\t\\t\\t\\ti\\n\\tConfused?????\\t\\t\\t\\t\\t\\t\\t\\ti\\n\\tYou facist when you delete text don\\'t change it, i wrote:\\t\\ti\\n\\t\\t\\t\\t\\t\\t\\t\\t\\t\\ti\\n        Search Turkish planes? You don\\'t know what you are talking about.\\ti\\n        Turkey\\'s government has announced that it\\'s giving weapons  <-----------i\\n        to Azerbadjan since Armenia started to attack Azerbadjan\\t\\t\\n        it self, not the Karabag province. So why search a plane for weapons\\t\\n        since it\\'s content is announced to be weapons?   \\n\\n\\tIf there is one that\\'s confused then that\\'s you! We have the right (and we do)\\n\\tto give weapons to the Azeris, since Armenians started the fight in Azerbadjan!\\n \\n\\n|>You are correct, all Turkish planes should be simply shot down! Nice, slow\\n|>moving air transports!\\n\\n\\tShoot down with what? Armenian bread and butter? Or the arms and personel \\n\\tof the Russian army?\\n\\n\\n\\n\\nHilmi Eren\\nStockholm University\\n'\n",
            " ...\n",
            " \"From: rdell@cbnewsf.cb.att.com (richard.b.dell)\\nSubject: Re: A question about 120VAC outlet wiring.\\nOrganization: AT&T\\nDistribution: na\\nLines: 21\\n\\nIn article <1993Apr22.004728.6736@mtu.edu> cmwolf@mtu.edu (Engineer by Day - Asleep by Night) writes:\\n>Dave Martindale (dave@imax.imax.com) wrote:\\n>: They require two separate grounds.  One ground goes to the ground pin\\n>: of the outlet, and the other ground wire is connected to the outlet's\\n>: mounting tabs (and thus grounds the box and faceplate screw and metal\\n>: faceplate, if any).\\n>\\n>I thought the ground WAS connected to the metal frame on the socket.\\n>\\n>-- \\n>------------------------------------------------------------------------------\\n>Christopher Wolf             Electrical Engineer                cmwolf@mtu.edu\\n>------------------------------------------------------------------------------\\n>         Remember, even if you win the Rat Race - You're still a rat.\\n\\nNot in isolated ground recepticles (usually an unusual color, such as orange\\nor yellow) often used in low noise, low leakage applications, as mentioned\\nearlier in the thread.\\n\\nRichard Dell\\n\\n\"\n",
            " \"From: steve@hcrlgw (Steven Collins)\\nSubject: Re: Sphere from 4 points?\\nOrganization: Central Research Lab. Hitachi, Ltd.\\nLines: 27\\nNntp-Posting-Host: hcrlgw\\n\\nIn article <1qkgbuINNs9n@shelley.u.washington.edu> bolson@carson.u.washington.edu (Edward Bolson) writes:\\n>Boy, this will be embarassing if it is trivial or an FAQ:\\n>\\n>Given 4 points (non coplanar), how does one find the sphere, that is,\\n>center and radius, exactly fitting those points?  I know how to do it\\n>for a circle (from 3 points), but do not immediately see a \\n>straightforward way to do it in 3-D.  I have checked some\\n>geometry books, Graphics Gems, and Farin, but am still at a loss?\\n>Please have mercy on me and provide the solution?  \\n\\nWouldn't this require a hyper-sphere.  In 3-space, 4 points over specifies\\na sphere as far as I can see.  Unless that is you can prove that a point\\nexists in 3-space that is equi-distant from the 4 points, and this may not\\nnecessarily happen.\\n\\nCorrect me if I'm wrong (which I quite possibly am!)\\n\\nsteve\\n---\\n\\n\\n\\n-- \\n+---------------------------------------+--------------------------------+\\n| Steven Collins\\t\\t\\t| email: steve@crl.hitachi.co.jp |\\n| Visiting Computer Graphics Researcher\\t| phone: (0423)-23-1111 \\t |\\n| Hitachi Central Research Lab. Tokyo.\\t| fax:   (0423)-27-7742\\t\\t |\\n\"\n",
            " 'From: chriss@netcom.com (Chris Silvester)\\nSubject: \"Production Hold\" on \\'93 Firebird/Camaro w/ 6-Speed\\nOrganization: Netcom - Online Communication Services (408 241-9760 guest)\\nDistribution: usa\\nLines: 30\\n\\nAfter a tip from Gary Crum (crum@fcom.cc.utah.edu) I got on the Phone\\nwith \"Pontiac Systems\" or \"Pontaic Customer Service\" or whatever, and\\ninquired about a rumoured Production Hold on the Formula Firebird and\\nTrans Am.  BTW, Talking with the dealer I bought the car from got me\\nnowhere.  After being routed to a \"Firebird Specialist\", I was able\\nto confirm that this is in fact the case.\\n\\nAt first, there was some problem with the 3:23 performance axle ratio.\\nShe wouldn\\'t go into any details, so I don\\'t know if there were some\\nshipped that had problems, or if production was held up because they\\nsimply didn\\'t have the proper parts from the supplier.  As I say, she\\nwas pretty vague on that, so if anyone else knows anything about this,\\nfeel free to respond.  Supposedly, this problem is now solved.\\n\\nSecond, there is a definate shortage of parts that is somehow related\\nto the six-speed Manual transmission.  So as of this posting, there is\\na production hold on these cars.  She claimed part of the delay was\\nnot wanting to use inferior quality parts for the car, and therefore\\nhaving to wait for the right high quality parts...  I\\'m not positive\\nthat this applies to the Camaro as well, but I\\'m guessing it would.\\n\\nCan anyone else shed some light on this?\\n\\nChris S.\\n-- \\n--------------------------------------------------------------------------------\\nChris Silvester      | \"Any man capable of getting himself elected President\\nchriss@sam.amgen.com |  should by no means be allowed to do the job\"\\nchriss@netcom.com    |   - Douglas Adams, The Hitchhiker\\'s Guide to the Galaxy\\n--------------------------------------------------------------------------------\\n'].\n",
            "Reshape your data either using array.reshape(-1, 1) if your data has a single feature or array.reshape(1, -1) if it contains a single sample.\n",
            "\n",
            "  warnings.warn(some_fits_failed_message, FitFailedWarning)\n"
          ]
        }
      ]
    }
  ]
}